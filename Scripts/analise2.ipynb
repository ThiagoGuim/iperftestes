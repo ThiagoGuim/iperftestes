{
 "cells": [
  {
   "cell_type": "code",
   "execution_count": 75,
   "metadata": {},
   "outputs": [],
   "source": [
    "import numpy as np\n",
    "import matplotlib.pyplot as plt\n",
    "import pandas as pd\n",
    "import statsmodels.api as sm\n",
    "import re"
   ]
  },
  {
   "cell_type": "code",
   "execution_count": 76,
   "metadata": {},
   "outputs": [
    {
     "data": {
      "text/html": [
       "<div>\n",
       "<style scoped>\n",
       "    .dataframe tbody tr th:only-of-type {\n",
       "        vertical-align: middle;\n",
       "    }\n",
       "\n",
       "    .dataframe tbody tr th {\n",
       "        vertical-align: top;\n",
       "    }\n",
       "\n",
       "    .dataframe thead th {\n",
       "        text-align: right;\n",
       "    }\n",
       "</style>\n",
       "<table border=\"1\" class=\"dataframe\">\n",
       "  <thead>\n",
       "    <tr style=\"text-align: right;\">\n",
       "      <th></th>\n",
       "      <th>Timestamp</th>\n",
       "      <th>IpOri</th>\n",
       "      <th>PortaOri</th>\n",
       "      <th>IpDest</th>\n",
       "      <th>PortaDest</th>\n",
       "      <th>?</th>\n",
       "      <th>Tempo</th>\n",
       "      <th>BytesEnv</th>\n",
       "      <th>Banda(bps)</th>\n",
       "      <th>Jitter</th>\n",
       "      <th>PctPerdido</th>\n",
       "      <th>PctEnv</th>\n",
       "      <th>%Perda</th>\n",
       "      <th>ForaOrdem</th>\n",
       "    </tr>\n",
       "  </thead>\n",
       "  <tbody>\n",
       "    <tr>\n",
       "      <th>0</th>\n",
       "      <td>20191010104337</td>\n",
       "      <td>10.1.0.2</td>\n",
       "      <td>18505</td>\n",
       "      <td>10.1.0.1</td>\n",
       "      <td>14005</td>\n",
       "      <td>3</td>\n",
       "      <td>0.0-5.4</td>\n",
       "      <td>945210</td>\n",
       "      <td>1403891</td>\n",
       "      <td>NaN</td>\n",
       "      <td>NaN</td>\n",
       "      <td>NaN</td>\n",
       "      <td>NaN</td>\n",
       "      <td>NaN</td>\n",
       "    </tr>\n",
       "    <tr>\n",
       "      <th>1</th>\n",
       "      <td>20191010104337</td>\n",
       "      <td>10.1.0.1</td>\n",
       "      <td>14005</td>\n",
       "      <td>10.1.0.2</td>\n",
       "      <td>18505</td>\n",
       "      <td>3</td>\n",
       "      <td>0.0-5.4</td>\n",
       "      <td>943740</td>\n",
       "      <td>1404484</td>\n",
       "      <td>0.175</td>\n",
       "      <td>1.0</td>\n",
       "      <td>643.0</td>\n",
       "      <td>0.156</td>\n",
       "      <td>0.0</td>\n",
       "    </tr>\n",
       "    <tr>\n",
       "      <th>2</th>\n",
       "      <td>20191010104345</td>\n",
       "      <td>10.1.0.2</td>\n",
       "      <td>18504</td>\n",
       "      <td>10.1.0.1</td>\n",
       "      <td>14004</td>\n",
       "      <td>3</td>\n",
       "      <td>0.0-13.4</td>\n",
       "      <td>3786720</td>\n",
       "      <td>2260984</td>\n",
       "      <td>NaN</td>\n",
       "      <td>NaN</td>\n",
       "      <td>NaN</td>\n",
       "      <td>NaN</td>\n",
       "      <td>NaN</td>\n",
       "    </tr>\n",
       "    <tr>\n",
       "      <th>3</th>\n",
       "      <td>20191010104345</td>\n",
       "      <td>10.1.0.1</td>\n",
       "      <td>14004</td>\n",
       "      <td>10.1.0.2</td>\n",
       "      <td>18504</td>\n",
       "      <td>3</td>\n",
       "      <td>0.0-13.3</td>\n",
       "      <td>3773490</td>\n",
       "      <td>2261702</td>\n",
       "      <td>0.093</td>\n",
       "      <td>9.0</td>\n",
       "      <td>2576.0</td>\n",
       "      <td>0.349</td>\n",
       "      <td>0.0</td>\n",
       "    </tr>\n",
       "    <tr>\n",
       "      <th>4</th>\n",
       "      <td>20191010104346</td>\n",
       "      <td>10.1.0.2</td>\n",
       "      <td>18526</td>\n",
       "      <td>10.1.0.1</td>\n",
       "      <td>14026</td>\n",
       "      <td>3</td>\n",
       "      <td>0.0-9.1</td>\n",
       "      <td>4712820</td>\n",
       "      <td>4145137</td>\n",
       "      <td>NaN</td>\n",
       "      <td>NaN</td>\n",
       "      <td>NaN</td>\n",
       "      <td>NaN</td>\n",
       "      <td>NaN</td>\n",
       "    </tr>\n",
       "  </tbody>\n",
       "</table>\n",
       "</div>"
      ],
      "text/plain": [
       "        Timestamp     IpOri  PortaOri    IpDest  PortaDest  ?     Tempo  \\\n",
       "0  20191010104337  10.1.0.2     18505  10.1.0.1      14005  3   0.0-5.4   \n",
       "1  20191010104337  10.1.0.1     14005  10.1.0.2      18505  3   0.0-5.4   \n",
       "2  20191010104345  10.1.0.2     18504  10.1.0.1      14004  3  0.0-13.4   \n",
       "3  20191010104345  10.1.0.1     14004  10.1.0.2      18504  3  0.0-13.3   \n",
       "4  20191010104346  10.1.0.2     18526  10.1.0.1      14026  3   0.0-9.1   \n",
       "\n",
       "   BytesEnv  Banda(bps)  Jitter  PctPerdido  PctEnv  %Perda  ForaOrdem  \n",
       "0    945210     1403891     NaN         NaN     NaN     NaN        NaN  \n",
       "1    943740     1404484   0.175         1.0   643.0   0.156        0.0  \n",
       "2   3786720     2260984     NaN         NaN     NaN     NaN        NaN  \n",
       "3   3773490     2261702   0.093         9.0  2576.0   0.349        0.0  \n",
       "4   4712820     4145137     NaN         NaN     NaN     NaN        NaN  "
      ]
     },
     "execution_count": 76,
     "metadata": {},
     "output_type": "execute_result"
    }
   ],
   "source": [
    "df = pd.read_csv('../Saidas/Teste8/teste8.csv')\n",
    "df.head()"
   ]
  },
  {
   "cell_type": "code",
   "execution_count": 77,
   "metadata": {},
   "outputs": [
    {
     "data": {
      "text/html": [
       "<div>\n",
       "<style scoped>\n",
       "    .dataframe tbody tr th:only-of-type {\n",
       "        vertical-align: middle;\n",
       "    }\n",
       "\n",
       "    .dataframe tbody tr th {\n",
       "        vertical-align: top;\n",
       "    }\n",
       "\n",
       "    .dataframe thead th {\n",
       "        text-align: right;\n",
       "    }\n",
       "</style>\n",
       "<table border=\"1\" class=\"dataframe\">\n",
       "  <thead>\n",
       "    <tr style=\"text-align: right;\">\n",
       "      <th></th>\n",
       "      <th>Timestamp</th>\n",
       "      <th>IpOri</th>\n",
       "      <th>PortaOri</th>\n",
       "      <th>IpDest</th>\n",
       "      <th>PortaDest</th>\n",
       "      <th>?</th>\n",
       "      <th>Tempo</th>\n",
       "      <th>BytesEnv</th>\n",
       "      <th>Banda(bps)</th>\n",
       "      <th>Jitter</th>\n",
       "      <th>PctPerdido</th>\n",
       "      <th>PctEnv</th>\n",
       "      <th>%Perda</th>\n",
       "      <th>ForaOrdem</th>\n",
       "    </tr>\n",
       "  </thead>\n",
       "  <tbody>\n",
       "    <tr>\n",
       "      <th>1</th>\n",
       "      <td>20191010104337</td>\n",
       "      <td>10.1.0.1</td>\n",
       "      <td>14005</td>\n",
       "      <td>10.1.0.2</td>\n",
       "      <td>18505</td>\n",
       "      <td>3</td>\n",
       "      <td>0.0-5.4</td>\n",
       "      <td>943740</td>\n",
       "      <td>1404484</td>\n",
       "      <td>0.175</td>\n",
       "      <td>1.0</td>\n",
       "      <td>643.0</td>\n",
       "      <td>0.156</td>\n",
       "      <td>0.0</td>\n",
       "    </tr>\n",
       "    <tr>\n",
       "      <th>3</th>\n",
       "      <td>20191010104345</td>\n",
       "      <td>10.1.0.1</td>\n",
       "      <td>14004</td>\n",
       "      <td>10.1.0.2</td>\n",
       "      <td>18504</td>\n",
       "      <td>3</td>\n",
       "      <td>0.0-13.3</td>\n",
       "      <td>3773490</td>\n",
       "      <td>2261702</td>\n",
       "      <td>0.093</td>\n",
       "      <td>9.0</td>\n",
       "      <td>2576.0</td>\n",
       "      <td>0.349</td>\n",
       "      <td>0.0</td>\n",
       "    </tr>\n",
       "    <tr>\n",
       "      <th>5</th>\n",
       "      <td>20191010104346</td>\n",
       "      <td>10.1.0.1</td>\n",
       "      <td>14026</td>\n",
       "      <td>10.1.0.2</td>\n",
       "      <td>18526</td>\n",
       "      <td>3</td>\n",
       "      <td>0.0-9.0</td>\n",
       "      <td>4687830</td>\n",
       "      <td>4145548</td>\n",
       "      <td>0.122</td>\n",
       "      <td>17.0</td>\n",
       "      <td>3206.0</td>\n",
       "      <td>0.530</td>\n",
       "      <td>0.0</td>\n",
       "    </tr>\n",
       "    <tr>\n",
       "      <th>7</th>\n",
       "      <td>20191010104347</td>\n",
       "      <td>10.1.0.1</td>\n",
       "      <td>14047</td>\n",
       "      <td>10.1.0.2</td>\n",
       "      <td>18547</td>\n",
       "      <td>3</td>\n",
       "      <td>0.0-6.4</td>\n",
       "      <td>5962320</td>\n",
       "      <td>7454333</td>\n",
       "      <td>0.062</td>\n",
       "      <td>9.0</td>\n",
       "      <td>4065.0</td>\n",
       "      <td>0.221</td>\n",
       "      <td>0.0</td>\n",
       "    </tr>\n",
       "    <tr>\n",
       "      <th>9</th>\n",
       "      <td>20191010104349</td>\n",
       "      <td>10.1.0.1</td>\n",
       "      <td>14018</td>\n",
       "      <td>10.1.0.2</td>\n",
       "      <td>18518</td>\n",
       "      <td>3</td>\n",
       "      <td>0.0-13.9</td>\n",
       "      <td>5834430</td>\n",
       "      <td>3365983</td>\n",
       "      <td>0.085</td>\n",
       "      <td>2.0</td>\n",
       "      <td>3971.0</td>\n",
       "      <td>0.050</td>\n",
       "      <td>0.0</td>\n",
       "    </tr>\n",
       "  </tbody>\n",
       "</table>\n",
       "</div>"
      ],
      "text/plain": [
       "        Timestamp     IpOri  PortaOri    IpDest  PortaDest  ?     Tempo  \\\n",
       "1  20191010104337  10.1.0.1     14005  10.1.0.2      18505  3   0.0-5.4   \n",
       "3  20191010104345  10.1.0.1     14004  10.1.0.2      18504  3  0.0-13.3   \n",
       "5  20191010104346  10.1.0.1     14026  10.1.0.2      18526  3   0.0-9.0   \n",
       "7  20191010104347  10.1.0.1     14047  10.1.0.2      18547  3   0.0-6.4   \n",
       "9  20191010104349  10.1.0.1     14018  10.1.0.2      18518  3  0.0-13.9   \n",
       "\n",
       "   BytesEnv  Banda(bps)  Jitter  PctPerdido  PctEnv  %Perda  ForaOrdem  \n",
       "1    943740     1404484   0.175         1.0   643.0   0.156        0.0  \n",
       "3   3773490     2261702   0.093         9.0  2576.0   0.349        0.0  \n",
       "5   4687830     4145548   0.122        17.0  3206.0   0.530        0.0  \n",
       "7   5962320     7454333   0.062         9.0  4065.0   0.221        0.0  \n",
       "9   5834430     3365983   0.085         2.0  3971.0   0.050        0.0  "
      ]
     },
     "execution_count": 77,
     "metadata": {},
     "output_type": "execute_result"
    }
   ],
   "source": [
    "dfServer = df[df.IpOri == '10.1.0.1']\n",
    "dfServer.head()"
   ]
  },
  {
   "cell_type": "code",
   "execution_count": 78,
   "metadata": {},
   "outputs": [
    {
     "data": {
      "image/png": "[encoded data removed]",
      "text/plain": [
       "<Figure size 432x288 with 1 Axes>"
      ]
     },
     "metadata": {
      "needs_background": "light"
     },
     "output_type": "display_data"
    }
   ],
   "source": [
    "x1 = np.sort(dfServer.PctPerdido)\n",
    "y1 = np.arange(1, len(x1) + 1) / (len(x1))\n",
    "\n",
    "plt.plot(x1, y1, marker = '.', linestyle = 'none')\n",
    "\n",
    "plt.xlabel('Pacotes perdidos')\n",
    "plt.ylabel('$P(X)$ $\\leq$ $x$')\n",
    "plt.title('CDF relativa aos pacotes perdidos - HW/SW')\n",
    "\n",
    "plt.show()"
   ]
  },
  {
   "cell_type": "code",
   "execution_count": 79,
   "metadata": {},
   "outputs": [],
   "source": [
    "df2 = pd.read_csv('../Saidas/Teste7/teste7.csv')\n",
    "\n",
    "df2Server = df2[df2.IpOri == '10.1.0.1']"
   ]
  },
  {
   "cell_type": "code",
   "execution_count": 80,
   "metadata": {},
   "outputs": [
    {
     "data": {
      "image/png": "[encoded data removed]",
      "text/plain": [
       "<Figure size 432x288 with 1 Axes>"
      ]
     },
     "metadata": {
      "needs_background": "light"
     },
     "output_type": "display_data"
    }
   ],
   "source": [
    "x2 = np.sort(df2Server.PctPerdido)\n",
    "y2 = np.arange(1, len(x2) + 1) / (len(x2))\n",
    "\n",
    "plt.plot(x2, y2, marker = '.', linestyle = 'none')\n",
    "\n",
    "plt.xlabel('Pacotes perdidos')\n",
    "plt.ylabel('$P(X)$ $\\leq$ $x$')\n",
    "plt.title('CDF relativa aos pacotes perdidos - Par/ímpar')\n",
    "\n",
    "plt.show()"
   ]
  },
  {
   "cell_type": "code",
   "execution_count": 81,
   "metadata": {},
   "outputs": [
    {
     "data": {
      "image/png": "[encoded data removed]",
      "text/plain": [
       "<Figure size 432x288 with 1 Axes>"
      ]
     },
     "metadata": {
      "needs_background": "light"
     },
     "output_type": "display_data"
    }
   ],
   "source": [
    "plt.plot(x1, y1, marker = '.', linestyle = 'none')\n",
    "plt.plot(x2, y2, marker = '.', linestyle = 'none')\n",
    "\n",
    "plt.xlabel('Pacotes perdidos')\n",
    "plt.ylabel('$P(X)$ $\\leq$ $x$')\n",
    "plt.title('CDF relativa aos pacotes perdidos')\n",
    "plt.legend(['Método HW/SW', 'Método Par/ímpar'])\n",
    "\n",
    "plt.show()"
   ]
  },
  {
   "cell_type": "code",
   "execution_count": 82,
   "metadata": {},
   "outputs": [
    {
     "data": {
      "image/png": "[encoded data removed]",
      "text/plain": [
       "<Figure size 432x288 with 1 Axes>"
      ]
     },
     "metadata": {
      "needs_background": "light"
     },
     "output_type": "display_data"
    }
   ],
   "source": [
    "x1 = np.sort(dfServer.Jitter)\n",
    "y1 = np.arange(1, len(x1) + 1) / (len(x1))\n",
    "\n",
    "plt.plot(x1, y1, marker = '.', linestyle = 'none')\n",
    "\n",
    "plt.xlabel('Jitter')\n",
    "plt.ylabel('$P(X)$ $\\leq$ $x$')\n",
    "plt.title('CDF relativa ao jitter - HW/SW')\n",
    "plt.xlim(0, 2)\n",
    "\n",
    "plt.show()"
   ]
  },
  {
   "cell_type": "code",
   "execution_count": 83,
   "metadata": {},
   "outputs": [
    {
     "data": {
      "image/png": "[encoded data removed]",
      "text/plain": [
       "<Figure size 432x288 with 1 Axes>"
      ]
     },
     "metadata": {
      "needs_background": "light"
     },
     "output_type": "display_data"
    }
   ],
   "source": [
    "x2 = np.sort(df2Server.Jitter)\n",
    "y2 = np.arange(1, len(x2) + 1) / (len(x2))\n",
    "\n",
    "plt.plot(x2, y2, marker = '.', linestyle = 'none')\n",
    "\n",
    "plt.xlabel('Jitter')\n",
    "plt.ylabel('$P(X)$ $\\leq$ $x$')\n",
    "plt.title('CDF relativa ao jitter - Par/ímpar')\n",
    "plt.xlim(0, 2)\n",
    "\n",
    "plt.show()"
   ]
  },
  {
   "cell_type": "code",
   "execution_count": 84,
   "metadata": {},
   "outputs": [
    {
     "data": {
      "image/png": "[encoded data removed]",
      "text/plain": [
       "<Figure size 432x288 with 1 Axes>"
      ]
     },
     "metadata": {
      "needs_background": "light"
     },
     "output_type": "display_data"
    }
   ],
   "source": [
    "plt.plot(x1, y1, marker = '.', linestyle = 'none')\n",
    "plt.plot(x2, y2, marker = '.', linestyle = 'none')\n",
    "\n",
    "plt.xlabel('Jitter')\n",
    "plt.ylabel('$P(X)$ $\\leq$ $x$')\n",
    "plt.title('CDF relativa ao jitter')\n",
    "plt.legend(['Método HW/SW', 'Método Par/ímpar'])\n",
    "plt.xlim(0, 2)\n",
    "\n",
    "plt.show()"
   ]
  }
 ],
 "metadata": {
  "kernelspec": {
   "display_name": "Python 3",
   "language": "python",
   "name": "python3"
  },
  "language_info": {
   "codemirror_mode": {
    "name": "ipython",
    "version": 3
   },
   "file_extension": ".py",
   "mimetype": "text/x-python",
   "name": "python",
   "nbconvert_exporter": "python",
   "pygments_lexer": "ipython3",
   "version": "3.7.3"
  }
 },
 "nbformat": 4,
 "nbformat_minor": 4
}
